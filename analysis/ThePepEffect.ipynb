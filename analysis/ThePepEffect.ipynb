{
 "cells": [
  {
   "cell_type": "markdown",
   "metadata": {},
   "source": [
    "# 1. Import Dependencies"
   ]
  },
  {
   "cell_type": "code",
   "execution_count": 13,
   "metadata": {},
   "outputs": [],
   "source": [
    "import pandas as pd"
   ]
  },
  {
   "cell_type": "markdown",
   "metadata": {},
   "source": [
    "# 2. Adjust Data"
   ]
  },
  {
   "cell_type": "code",
   "execution_count": 14,
   "metadata": {},
   "outputs": [],
   "source": [
    "# These stats are either duplicates or not useful for our analysis\n",
    "STATS_TO_DROP = ['gk_clean_sheets_pct',\n",
    "    'players_used', 'games', 'games_starts', 'minutes', 'minutes_90s', 'goals', 'assists',\n",
    "    'goals_assists', 'goals_pens', 'pens_made', 'pens_att', 'cards_yellow', \n",
    "    'cards_red','xg', 'npxg','xg_assist', 'npxg_xg_assist', 'gk_games', \n",
    "    'gk_games_starts', 'gk_minutes','gk_goals_against', 'gk_saves', 'gk_wins', \n",
    "    'gk_ties', 'gk_losses','gk_clean_sheets', 'gk_pens_att', 'gk_pens_allowed', \n",
    "    'gk_pens_saved', 'gk_pens_missed', 'gk_psxg_net', 'gk_passes_completed_launched',\n",
    "    'gk_passes_launched', 'gk_crosses_stopped', 'gk_def_actions_outside_pen_area',\n",
    "    'shots', 'shots_on_target', 'sca', 'gca'\n",
    "]\n",
    "\n",
    "# These stats are too representative of the amount of games played, leading to skewed results.\n",
    "# Thus we convert them to per 90 stats.\n",
    "STATS_TO_PER90 = [\n",
    "    'progressive_carries', 'progressive_passes', 'gk_free_kick_goals_against', \n",
    "    'gk_corner_kick_goals_against', 'gk_own_goals_against', 'gk_psxg', 'gk_passes', \n",
    "    'gk_passes_throws', 'gk_goal_kicks', 'gk_crosses', 'xg_net', 'npxg_net', 'passes_completed', \n",
    "    'passes_total_distance', 'passes_progressive_distance', 'passes', 'passes_completed_short',\n",
    "    'passes_short', 'passes_completed_medium', 'passes_medium', 'passes_completed_long',\n",
    "    'passes_long', 'pass_xa', 'xg_assist_net', 'assisted_shots', 'passes_into_final_third',\n",
    "    'passes_into_penalty_area', 'crosses_into_penalty_area', 'passes_live', 'passes_dead',\n",
    "    'passes_free_kicks', 'through_balls', 'passes_switches', 'crosses', 'throw_ins',\n",
    "    'corner_kicks', 'corner_kicks_in', 'corner_kicks_out', 'corner_kicks_straight',\n",
    "    'passes_offsides', 'passes_blocked', 'sca_passes_live', 'sca_passes_dead',\n",
    "    'sca_take_ons', 'sca_shots', 'sca_fouled', 'sca_defense', 'gca_passes_live',\n",
    "    'gca_passes_dead', 'gca_take_ons', 'gca_shots', 'gca_fouled', 'gca_defense',\n",
    "    'tackles', 'tackles_won', 'tackles_def_3rd', 'tackles_mid_3rd', 'tackles_att_3rd',\n",
    "    'challenge_tackles', 'challenges', 'challenges_lost', 'blocks', 'blocked_shots',\n",
    "    'blocked_passes', 'interceptions', 'tackles_interceptions', 'clearances', 'errors',\n",
    "    'touches', 'touches_def_pen_area', 'touches_def_3rd', 'touches_mid_3rd', 'touches_att_3rd',\n",
    "    'touches_att_pen_area', 'touches_live_ball', 'take_ons', 'take_ons_won',\n",
    "    'take_ons_tackled', 'carries', 'carries_distance', 'carries_progressive_distance',\n",
    "    'carries_into_final_third', 'carries_into_penalty_area', 'miscontrols', 'dispossessed',\n",
    "    'passes_received', 'progressive_passes_received', 'cards_yellow_red', 'fouls', 'fouled',\n",
    "    'offsides', 'pens_won', 'pens_conceded', 'own_goals', 'ball_recoveries', 'aerials_won',\n",
    "    'aerials_lost'\n",
    "]"
   ]
  },
  {
   "cell_type": "code",
   "execution_count": 15,
   "metadata": {},
   "outputs": [],
   "source": [
    "df = pd.read_csv(\"../data/top5Leagues.csv\")"
   ]
  },
  {
   "cell_type": "code",
   "execution_count": 16,
   "metadata": {},
   "outputs": [],
   "source": [
    "df[STATS_TO_PER90] = df[STATS_TO_PER90].div(df['minutes_90s'], axis=0)\n",
    "df.drop(columns=STATS_TO_DROP, inplace=True)"
   ]
  },
  {
   "cell_type": "code",
   "execution_count": 17,
   "metadata": {},
   "outputs": [],
   "source": [
    "df = df.rename(columns={col: col + '_per90' for col in STATS_TO_PER90})\n",
    "df.to_csv('../data/top5LeaguesADJUSTED.csv', index=False)"
   ]
  }
 ],
 "metadata": {
  "kernelspec": {
   "display_name": ".venv",
   "language": "python",
   "name": "python3"
  },
  "language_info": {
   "codemirror_mode": {
    "name": "ipython",
    "version": 3
   },
   "file_extension": ".py",
   "mimetype": "text/x-python",
   "name": "python",
   "nbconvert_exporter": "python",
   "pygments_lexer": "ipython3",
   "version": "3.12.0"
  }
 },
 "nbformat": 4,
 "nbformat_minor": 2
}
