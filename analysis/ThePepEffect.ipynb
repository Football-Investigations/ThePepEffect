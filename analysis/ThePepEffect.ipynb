{
 "cells": [
  {
   "cell_type": "markdown",
   "metadata": {},
   "source": [
    "# 1. Import Dependencies"
   ]
  },
  {
   "cell_type": "code",
   "execution_count": 6,
   "metadata": {},
   "outputs": [],
   "source": [
    "import pandas as pd"
   ]
  },
  {
   "cell_type": "markdown",
   "metadata": {},
   "source": [
    "# 2. Adjust Data"
   ]
  },
  {
   "cell_type": "code",
   "execution_count": 55,
   "metadata": {},
   "outputs": [],
   "source": [
    "# These stats are either duplicates or not useful for our analysis\n",
    "STATS_TO_DROP = ['gk_clean_sheets_pct',\n",
    "    'players_used', 'games_starts', 'minutes', 'minutes_90s', 'goals', 'assists',\n",
    "    'goals_assists', 'goals_pens', 'pens_made', 'pens_att','xg', 'npxg','xg_assist', 'npxg_xg_assist', 'gk_games', \n",
    "    'gk_games_starts', 'gk_minutes','gk_saves', 'gk_wins', \n",
    "    'gk_ties', 'gk_losses','gk_clean_sheets', 'gk_pens_att', 'gk_pens_allowed', \n",
    "    'gk_pens_saved', 'gk_pens_missed', 'shots', 'shots_on_target',\n",
    "    'avg_age', 'goals_per90', 'assists_per90', 'goals_assists_per90',\n",
    "    'goals_pens_per90', 'goals_assists_pens_per90', 'xg_per90', 'xg_assist_per90', 'xg_xg_assist_per90',\n",
    "    'npxg_per90', 'npxg_xg_assist_per90', 'gk_goals_against_per90', 'gk_shots_on_target_against', \n",
    "    'gk_clean_sheets_pct', 'gk_pens_save_pct', 'gk_own_goals_against', 'gk_psxg', \n",
    "    'gk_psnpxg_per_shot_on_target_against', 'gk_psxg_net', 'gk_psxg_net_per90', 'gk_passes_completed_launched',\n",
    "    'gk_passes_launched', 'gk_passes', 'gk_passes_throws', 'gk_goal_kicks', 'gk_crosses_stopped', \n",
    "    'gk_def_actions_outside_pen_area', 'shots_per90', 'shots_on_target_per90', 'gk_free_kick_goals_against',\n",
    "    'goals_per_shot', 'goals_per_shot_on_target', 'average_shot_distance', 'shots_free_kicks',\n",
    "    'npxg_per_shot', 'xg_net', 'npxg_net', 'passes_short', 'passes_medium', 'passes_long', 'pass_xa',\n",
    "    'xg_assist_net', 'assisted_shots', 'passes_live', 'passes_dead', 'passes_free_kicks', 'crosses', 'throw_ins',\n",
    "    'corner_kicks', 'corner_kicks_straight', 'sca_per90', 'gca_per90', \n",
    "    'tackles_interceptions', 'challenge_tackles', 'challenges_lost', 'touches_live_ball', \n",
    "    'take_ons_tackled', 'cards_yellow_red', 'pens_won',\t'pens_conceded', 'own_goals', 'aerials_lost'\n",
    "\n",
    "\n",
    "]\n",
    "\n",
    "# These stats are too representative of the amount of games played, leading to skewed results.\n",
    "# Thus we convert them to per 90 stats.\n",
    "STATS_TO_PER90 = [\n",
    "    'progressive_carries', 'progressive_passes', 'gk_free_kick_goals_against', \n",
    "    'passes_completed', 'cards_red',\n",
    "    'passes_total_distance', 'passes_progressive_distance', 'passes', 'passes_completed_short',\n",
    "    'passes_completed_medium', 'passes_completed_long',\n",
    "    'pass_xa', 'passes_into_final_third',\n",
    "    'passes_into_penalty_area', 'crosses_into_penalty_area', \n",
    "    'through_balls', 'passes_switches',\n",
    "    'corner_kicks_in', 'corner_kicks_out', 'corner_kicks_straight',\n",
    "    'sca_passes_live', 'sca_passes_dead',\n",
    "    'sca_take_ons', 'sca_shots', 'sca_fouled', 'sca_defense', 'gca_passes_live',\n",
    "    'gca_passes_dead', 'gca_take_ons', 'gca_shots', 'gca_fouled', 'gca_defense',\n",
    "    'tackles', 'tackles_won', 'tackles_def_3rd', 'tackles_mid_3rd', 'tackles_att_3rd',\n",
    "    'challenges', 'blocks', 'blocked_shots',\n",
    "    'blocked_passes', 'interceptions', 'clearances', 'errors',\n",
    "    'touches', 'touches_def_pen_area', 'touches_def_3rd', 'touches_mid_3rd', 'touches_att_3rd',\n",
    "    'touches_att_pen_area', 'take_ons', 'take_ons_won',\n",
    "    'carries', 'carries_distance', 'carries_progressive_distance',\n",
    "    'carries_into_final_third', 'carries_into_penalty_area', 'miscontrols', 'dispossessed',\n",
    "    'passes_received', 'progressive_passes_received', 'fouls', 'fouled',\n",
    "    'offsides','ball_recoveries', 'aerials_won'\n",
    "\n",
    "]\n",
    "# change all statistics that are totals to per 90 to account for Ligue 1\n",
    "\n",
    "# add some ratios - prgc/(prgc+prgp), ratio of goals conceded from corners and free kicks (then remove totals),\n",
    "# change total distance and progressive distance to per completed pass (then remove totals), \n",
    "# corner_kicks_in/(corner_kicks_in+corner_kicks_out) (then remove totals), passes_offsides/completed passes,\n",
    "# passes_blocked/completed_passes, % of sca from where then delete totals - same with gca, \n",
    "# convert tackles won and tackles in different thirds to % of tackles,  \n",
    "# % of blocks are shots vs passes,\n"
   ]
  },
  {
   "cell_type": "code",
   "execution_count": 56,
   "metadata": {},
   "outputs": [],
   "source": [
    "df = pd.read_csv(\"../data/top5Leagues.csv\")"
   ]
  },
  {
   "cell_type": "code",
   "execution_count": 58,
   "metadata": {},
   "outputs": [],
   "source": [
    "df['avg_carries_distance'] = df['carries_distance']/df['carries']\n",
    "df['avg_progressive_carries_distance'] = df['carries_progressive_distance']/df['carries']\n",
    "df['corner_kicks_conceded_pct'] = df['gk_corner_kick_goals_against']/df['gk_goals_against']\n",
    "df['corner_kicks_in_pct']=df['corner_kicks_in']/(df['corner_kicks_in']+df['corner_kicks_out'])\n",
    "df['passes_offsides_pct'] = df['passes_offsides']/df['passes_completed']\n",
    "df['passes_blocked_pct'] = df['passes_blocked']/df['passes_completed']\n",
    "df['sca_passes_live_pct']=df['sca_passes_live']/df['sca']\n",
    "df['sca_passes_dead_pct']=df['sca_passes_dead']/df['sca']\n",
    "df['sca_take_ons_pct']=df['sca_take_ons']/df['sca']\n",
    "df['sca_fouled_pct']=df['sca_fouled']/df['sca']\n",
    "df['sca_take_ons_pct']=df['sca_take_ons']/df['sca']\n",
    "df['sca_shots_pct']=df['sca_shots']/df['sca']\n",
    "df['sca_defense_pct']=df['sca_defense']/df['sca']\n",
    "df['gca_passes_live_pct']=df['gca_passes_live']/df['gca']\n",
    "df['gca_passes_dead_pct']=df['gca_passes_dead']/df['gca']\n",
    "df['gca_take_ons_pct']=df['gca_take_ons']/df['gca']\n",
    "df['gca_fouled_pct']=df['gca_fouled']/df['gca']\n",
    "df['gca_take_ons_pct']=df['gca_take_ons']/df['gca']\n",
    "df['gca_shots_pct']=df['gca_shots']/df['gca']\n",
    "df['gca_defense_pct']=df['gca_defense']/df['sca']\n",
    "df['tackles_def_3rd_per90_pct']=df['tackles_def_3rd']/df['tackles']\n",
    "df['tackles_mid_3rd_per90_pct']=df['tackles_mid_3rd']/df['tackles']\n",
    "df['tackles_att_3rd_per90_pct']=df['tackles_att_3rd']/df['tackles']\n",
    "df['blocked_passes_per90_pct'] = df['blocked_passes']/df['blocks']\n",
    "df['passes_total_distance_per_pass'] = df['passes_total_distance']/df['passes_completed']\n",
    "df['passes_progressive_distance_per_pass'] = df['passes_progressive_distance']/df['passes_completed']"
   ]
  },
  {
   "cell_type": "code",
   "execution_count": 59,
   "metadata": {},
   "outputs": [],
   "source": [
    "df[STATS_TO_PER90] = df[STATS_TO_PER90].div(df['minutes_90s'], axis=0)\n",
    "df.drop(columns=STATS_TO_DROP, inplace=True)"
   ]
  },
  {
   "cell_type": "code",
   "execution_count": 60,
   "metadata": {},
   "outputs": [],
   "source": [
    "df.drop(columns=['progressive_passes', 'gk_corner_kick_goals_against', 'passes_progressive_distance',\n",
    "                 'passes_total_distance', 'tackles_def_3rd', 'tackles_mid_3rd', 'tackles_att_3rd', 'corner_kicks_in',\n",
    "                 'corner_kicks_out', 'passes_offsides', 'passes_blocked', 'sca_passes_live', 'sca', 'sca_passes_dead',\n",
    "                 'sca_take_ons', 'sca_shots', 'sca_defense', 'gca_passes_live', 'gca', 'gca_passes_dead',\n",
    "                 'gca_take_ons', 'gca_shots', 'gca_defense', 'blocked_passes', 'gca_fouled', 'sca_fouled'], inplace=True)"
   ]
  },
  {
   "cell_type": "code",
   "execution_count": 61,
   "metadata": {},
   "outputs": [],
   "source": [
    "df = df.rename(columns={col: col + '_per90' for col in STATS_TO_PER90})\n",
    "df.to_csv('../data/top5LeaguesADJUSTED.csv', index=False)"
   ]
  }
 ],
 "metadata": {
  "kernelspec": {
   "display_name": ".venv",
   "language": "python",
   "name": "python3"
  },
  "language_info": {
   "codemirror_mode": {
    "name": "ipython",
    "version": 3
   },
   "file_extension": ".py",
   "mimetype": "text/x-python",
   "name": "python",
   "nbconvert_exporter": "python",
   "pygments_lexer": "ipython3",
   "version": "3.12.8"
  }
 },
 "nbformat": 4,
 "nbformat_minor": 2
}
